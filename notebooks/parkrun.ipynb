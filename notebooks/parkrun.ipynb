{
 "cells": [
  {
   "cell_type": "code",
   "execution_count": 1,
   "id": "071f1123",
   "metadata": {},
   "outputs": [],
   "source": [
    "from pathlib import Path\n",
    "\n",
    "import altair\n",
    "import polars as pl\n",
    "\n",
    "from power_of_10 import PowerOf10\n"
   ]
  },
  {
   "cell_type": "code",
   "execution_count": 2,
   "id": "68fcc284",
   "metadata": {},
   "outputs": [],
   "source": [
    "temp_path = Path().home() / \"OneDrive\" / \"Documents\" / \"Temp\""
   ]
  },
  {
   "cell_type": "code",
   "execution_count": 3,
   "id": "a710c62a",
   "metadata": {},
   "outputs": [],
   "source": [
    "po10 = PowerOf10()\n",
    "athlete = po10.get_athlete_by_id(1114055)"
   ]
  },
  {
   "cell_type": "code",
   "execution_count": 51,
   "id": "620b8803",
   "metadata": {},
   "outputs": [
    {
     "data": {
      "text/html": [
       "<div><style>\n",
       ".dataframe > thead > tr,\n",
       ".dataframe > tbody > tr {\n",
       "  text-align: right;\n",
       "  white-space: pre-wrap;\n",
       "}\n",
       "</style>\n",
       "<small>shape: (111, 2)</small><table border=\"1\" class=\"dataframe\"><thead><tr><th>Date</th><th>Result</th></tr><tr><td>datetime[μs]</td><td>i64</td></tr></thead><tbody><tr><td>2025-02-15 00:00:00</td><td>1260</td></tr><tr><td>2025-03-29 00:00:00</td><td>1341</td></tr><tr><td>2024-03-30 00:00:00</td><td>1369</td></tr><tr><td>2024-09-28 00:00:00</td><td>1400</td></tr><tr><td>2024-01-06 00:00:00</td><td>1428</td></tr><tr><td>&hellip;</td><td>&hellip;</td></tr><tr><td>2018-05-12 00:00:00</td><td>2584</td></tr><tr><td>2018-01-06 00:00:00</td><td>2622</td></tr><tr><td>2018-04-14 00:00:00</td><td>2786</td></tr><tr><td>2017-12-30 00:00:00</td><td>2106</td></tr><tr><td>2017-12-02 00:00:00</td><td>2199</td></tr></tbody></table></div>"
      ],
      "text/plain": [
       "shape: (111, 2)\n",
       "┌─────────────────────┬────────┐\n",
       "│ Date                ┆ Result │\n",
       "│ ---                 ┆ ---    │\n",
       "│ datetime[μs]        ┆ i64    │\n",
       "╞═════════════════════╪════════╡\n",
       "│ 2025-02-15 00:00:00 ┆ 1260   │\n",
       "│ 2025-03-29 00:00:00 ┆ 1341   │\n",
       "│ 2024-03-30 00:00:00 ┆ 1369   │\n",
       "│ 2024-09-28 00:00:00 ┆ 1400   │\n",
       "│ 2024-01-06 00:00:00 ┆ 1428   │\n",
       "│ …                   ┆ …      │\n",
       "│ 2018-05-12 00:00:00 ┆ 2584   │\n",
       "│ 2018-01-06 00:00:00 ┆ 2622   │\n",
       "│ 2018-04-14 00:00:00 ┆ 2786   │\n",
       "│ 2017-12-30 00:00:00 ┆ 2106   │\n",
       "│ 2017-12-02 00:00:00 ┆ 2199   │\n",
       "└─────────────────────┴────────┘"
      ]
     },
     "execution_count": 51,
     "metadata": {},
     "output_type": "execute_result"
    }
   ],
   "source": [
    "all_performances_df = (\n",
    "    pl.DataFrame(athlete.all_performances)\n",
    "    .filter(pl.col(\"Event\") == \"parkrun\")\n",
    "    .filter(pl.col(\"Meeting\").str.starts_with(\"Eglinton parkrun\"))\n",
    "    .fill_null(\"\")\n",
    "    .with_columns(pl.lit(\"00:\").alias(\"prefix\"))\n",
    "    .with_columns(pl.concat_str(pl.col(\"prefix\"), pl.col(\"Performance\"))\n",
    "        .alias(\"Performance\")\n",
    "    )\n",
    "    .with_columns(pl.col(\"Performance\").str.split(\":\"))\n",
    "    .with_columns(pl.duration(hours=pl.col(\"Performance\").list.get(0), minutes=pl.col(\"Performance\").list.get(1), seconds=pl.col(\"Performance\").list.get(2)).alias(\"Result\").dt.total_seconds())\n",
    "    .select(pl.exclude(\"prefix\", \"Event\", \"Indoor\", \"Position\", \"Performance\", \"Meeting\"))\n",
    "    # .sort(\"Name\", \"Event\", \"Year\")\n",
    ")\n",
    "all_performances_df"
   ]
  },
  {
   "cell_type": "code",
   "execution_count": null,
   "id": "52db2ac4",
   "metadata": {},
   "outputs": [],
   "source": [
    "df = (all_performances_df\n",
    ".filter(pl.col(\"Event\")==\"parkrun\")\n",
    "#.with_columns(pl.col(\"Result\").str.to_time(\"%H:%M:%S\"))\n",
    ".with_columns(pl.col(\"Performance\").str.split(\":\").alias(\"s\"))\n",
    ".with_columns(pl.duration(hours=pl.col(\"s\").list.get(0), minutes=pl.col(\"s\").list.get(1), seconds=pl.col(\"s\").list.get(2)).alias(\"Result\"))\n",
    ".select(pl.exclude(\"Indoor\", \"Event\",\"s\"))\n",
    ")\n",
    "df"
   ]
  },
  {
   "cell_type": "code",
   "execution_count": 52,
   "id": "67516dab",
   "metadata": {},
   "outputs": [
    {
     "data": {
      "text/html": [
       "\n",
       "<style>\n",
       "  #altair-viz-0a5b7c751d684a36864dcf6f529f917d.vega-embed {\n",
       "    width: 100%;\n",
       "    display: flex;\n",
       "  }\n",
       "\n",
       "  #altair-viz-0a5b7c751d684a36864dcf6f529f917d.vega-embed details,\n",
       "  #altair-viz-0a5b7c751d684a36864dcf6f529f917d.vega-embed details summary {\n",
       "    position: relative;\n",
       "  }\n",
       "</style>\n",
       "<div id=\"altair-viz-0a5b7c751d684a36864dcf6f529f917d\"></div>\n",
       "<script type=\"text/javascript\">\n",
       "  var VEGA_DEBUG = (typeof VEGA_DEBUG == \"undefined\") ? {} : VEGA_DEBUG;\n",
       "  (function(spec, embedOpt){\n",
       "    let outputDiv = document.currentScript.previousElementSibling;\n",
       "    if (outputDiv.id !== \"altair-viz-0a5b7c751d684a36864dcf6f529f917d\") {\n",
       "      outputDiv = document.getElementById(\"altair-viz-0a5b7c751d684a36864dcf6f529f917d\");\n",
       "    }\n",
       "\n",
       "    const paths = {\n",
       "      \"vega\": \"https://cdn.jsdelivr.net/npm/vega@5?noext\",\n",
       "      \"vega-lib\": \"https://cdn.jsdelivr.net/npm/vega-lib?noext\",\n",
       "      \"vega-lite\": \"https://cdn.jsdelivr.net/npm/vega-lite@5.20.1?noext\",\n",
       "      \"vega-embed\": \"https://cdn.jsdelivr.net/npm/vega-embed@6?noext\",\n",
       "    };\n",
       "\n",
       "    function maybeLoadScript(lib, version) {\n",
       "      var key = `${lib.replace(\"-\", \"\")}_version`;\n",
       "      return (VEGA_DEBUG[key] == version) ?\n",
       "        Promise.resolve(paths[lib]) :\n",
       "        new Promise(function(resolve, reject) {\n",
       "          var s = document.createElement('script');\n",
       "          document.getElementsByTagName(\"head\")[0].appendChild(s);\n",
       "          s.async = true;\n",
       "          s.onload = () => {\n",
       "            VEGA_DEBUG[key] = version;\n",
       "            return resolve(paths[lib]);\n",
       "          };\n",
       "          s.onerror = () => reject(`Error loading script: ${paths[lib]}`);\n",
       "          s.src = paths[lib];\n",
       "        });\n",
       "    }\n",
       "\n",
       "    function showError(err) {\n",
       "      outputDiv.innerHTML = `<div class=\"error\" style=\"color:red;\">${err}</div>`;\n",
       "      throw err;\n",
       "    }\n",
       "\n",
       "    function displayChart(vegaEmbed) {\n",
       "      vegaEmbed(outputDiv, spec, embedOpt)\n",
       "        .catch(err => showError(`Javascript Error: ${err.message}<br>This usually means there's a typo in your chart specification. See the javascript console for the full traceback.`));\n",
       "    }\n",
       "\n",
       "    if(typeof define === \"function\" && define.amd) {\n",
       "      requirejs.config({paths});\n",
       "      let deps = [\"vega-embed\"];\n",
       "      require(deps, displayChart, err => showError(`Error loading script: ${err.message}`));\n",
       "    } else {\n",
       "      maybeLoadScript(\"vega\", \"5\")\n",
       "        .then(() => maybeLoadScript(\"vega-lite\", \"5.20.1\"))\n",
       "        .then(() => maybeLoadScript(\"vega-embed\", \"6\"))\n",
       "        .catch(showError)\n",
       "        .then(() => displayChart(vegaEmbed));\n",
       "    }\n",
       "  })({\"config\": {\"view\": {\"continuousWidth\": 300, \"continuousHeight\": 300}, \"scale\": {\"zero\": false}}, \"data\": {\"name\": \"data-624941b60890e18df5ae18e9fbc48ad8\"}, \"mark\": {\"type\": \"line\", \"tooltip\": true}, \"encoding\": {\"x\": {\"field\": \"Date\", \"type\": \"temporal\"}, \"y\": {\"field\": \"Result\", \"type\": \"quantitative\"}}, \"height\": 500, \"params\": [{\"name\": \"param_10\", \"select\": {\"type\": \"interval\", \"encodings\": [\"x\", \"y\"]}, \"bind\": \"scales\"}], \"title\": \"Eglinton Parkrun\", \"width\": 1200, \"$schema\": \"https://vega.github.io/schema/vega-lite/v5.20.1.json\", \"datasets\": {\"data-624941b60890e18df5ae18e9fbc48ad8\": [{\"Date\": \"2025-02-15T00:00:00\", \"Result\": 1260}, {\"Date\": \"2025-03-29T00:00:00\", \"Result\": 1341}, {\"Date\": \"2024-03-30T00:00:00\", \"Result\": 1369}, {\"Date\": \"2024-09-28T00:00:00\", \"Result\": 1400}, {\"Date\": \"2024-01-06T00:00:00\", \"Result\": 1428}, {\"Date\": \"2024-03-09T00:00:00\", \"Result\": 1487}, {\"Date\": \"2024-03-16T00:00:00\", \"Result\": 1580}, {\"Date\": \"2024-01-27T00:00:00\", \"Result\": 1598}, {\"Date\": \"2023-07-29T00:00:00\", \"Result\": 1307}, {\"Date\": \"2023-11-04T00:00:00\", \"Result\": 1309}, {\"Date\": \"2023-12-09T00:00:00\", \"Result\": 1319}, {\"Date\": \"2023-10-21T00:00:00\", \"Result\": 1469}, {\"Date\": \"2023-07-22T00:00:00\", \"Result\": 1473}, {\"Date\": \"2023-11-25T00:00:00\", \"Result\": 1642}, {\"Date\": \"2023-06-24T00:00:00\", \"Result\": 1674}, {\"Date\": \"2023-07-01T00:00:00\", \"Result\": 1674}, {\"Date\": \"2023-08-26T00:00:00\", \"Result\": 1695}, {\"Date\": \"2023-08-05T00:00:00\", \"Result\": 2002}, {\"Date\": \"2023-01-07T00:00:00\", \"Result\": 2086}, {\"Date\": \"2022-08-06T00:00:00\", \"Result\": 1346}, {\"Date\": \"2022-12-03T00:00:00\", \"Result\": 1395}, {\"Date\": \"2022-05-21T00:00:00\", \"Result\": 1433}, {\"Date\": \"2022-01-08T00:00:00\", \"Result\": 1541}, {\"Date\": \"2022-10-08T00:00:00\", \"Result\": 1586}, {\"Date\": \"2022-06-11T00:00:00\", \"Result\": 1612}, {\"Date\": \"2022-09-10T00:00:00\", \"Result\": 1630}, {\"Date\": \"2022-08-27T00:00:00\", \"Result\": 1645}, {\"Date\": \"2022-03-05T00:00:00\", \"Result\": 1655}, {\"Date\": \"2022-04-23T00:00:00\", \"Result\": 1718}, {\"Date\": \"2022-08-20T00:00:00\", \"Result\": 1719}, {\"Date\": \"2022-11-26T00:00:00\", \"Result\": 1742}, {\"Date\": \"2022-01-29T00:00:00\", \"Result\": 1777}, {\"Date\": \"2022-01-15T00:00:00\", \"Result\": 1822}, {\"Date\": \"2022-05-07T00:00:00\", \"Result\": 1857}, {\"Date\": \"2022-10-22T00:00:00\", \"Result\": 1875}, {\"Date\": \"2022-04-02T00:00:00\", \"Result\": 1882}, {\"Date\": \"2022-02-19T00:00:00\", \"Result\": 1905}, {\"Date\": \"2022-04-30T00:00:00\", \"Result\": 1907}, {\"Date\": \"2022-03-12T00:00:00\", \"Result\": 1913}, {\"Date\": \"2022-02-26T00:00:00\", \"Result\": 1919}, {\"Date\": \"2022-01-22T00:00:00\", \"Result\": 1977}, {\"Date\": \"2022-03-26T00:00:00\", \"Result\": 1990}, {\"Date\": \"2022-08-13T00:00:00\", \"Result\": 2213}, {\"Date\": \"2022-02-12T00:00:00\", \"Result\": 2255}, {\"Date\": \"2022-05-28T00:00:00\", \"Result\": 2263}, {\"Date\": \"2022-01-01T00:00:00\", \"Result\": 2364}, {\"Date\": \"2021-10-30T00:00:00\", \"Result\": 1464}, {\"Date\": \"2021-08-28T00:00:00\", \"Result\": 1608}, {\"Date\": \"2021-11-20T00:00:00\", \"Result\": 1733}, {\"Date\": \"2021-10-09T00:00:00\", \"Result\": 1786}, {\"Date\": \"2021-11-06T00:00:00\", \"Result\": 2017}, {\"Date\": \"2021-08-14T00:00:00\", \"Result\": 2170}, {\"Date\": \"2021-12-04T00:00:00\", \"Result\": 2175}, {\"Date\": \"2021-09-18T00:00:00\", \"Result\": 2280}, {\"Date\": \"2021-10-02T00:00:00\", \"Result\": 2423}, {\"Date\": \"2020-01-18T00:00:00\", \"Result\": 1692}, {\"Date\": \"2020-01-04T00:00:00\", \"Result\": 1705}, {\"Date\": \"2020-02-29T00:00:00\", \"Result\": 1723}, {\"Date\": \"2020-01-25T00:00:00\", \"Result\": 1739}, {\"Date\": \"2020-02-01T00:00:00\", \"Result\": 1762}, {\"Date\": \"2020-02-15T00:00:00\", \"Result\": 1769}, {\"Date\": \"2019-12-21T00:00:00\", \"Result\": 1724}, {\"Date\": \"2019-12-07T00:00:00\", \"Result\": 1741}, {\"Date\": \"2019-08-17T00:00:00\", \"Result\": 1744}, {\"Date\": \"2019-08-24T00:00:00\", \"Result\": 1744}, {\"Date\": \"2019-01-05T00:00:00\", \"Result\": 1825}, {\"Date\": \"2019-05-25T00:00:00\", \"Result\": 1863}, {\"Date\": \"2019-11-02T00:00:00\", \"Result\": 1866}, {\"Date\": \"2019-07-27T00:00:00\", \"Result\": 1871}, {\"Date\": \"2019-04-06T00:00:00\", \"Result\": 1876}, {\"Date\": \"2019-11-30T00:00:00\", \"Result\": 1883}, {\"Date\": \"2019-05-18T00:00:00\", \"Result\": 1897}, {\"Date\": \"2019-06-08T00:00:00\", \"Result\": 1907}, {\"Date\": \"2019-08-03T00:00:00\", \"Result\": 1918}, {\"Date\": \"2019-11-23T00:00:00\", \"Result\": 1924}, {\"Date\": \"2019-03-23T00:00:00\", \"Result\": 1937}, {\"Date\": \"2019-08-10T00:00:00\", \"Result\": 1949}, {\"Date\": \"2019-06-15T00:00:00\", \"Result\": 1958}, {\"Date\": \"2019-06-29T00:00:00\", \"Result\": 1962}, {\"Date\": \"2019-03-30T00:00:00\", \"Result\": 1968}, {\"Date\": \"2019-01-12T00:00:00\", \"Result\": 1976}, {\"Date\": \"2019-05-11T00:00:00\", \"Result\": 1991}, {\"Date\": \"2019-07-20T00:00:00\", \"Result\": 1991}, {\"Date\": \"2019-01-01T00:00:00\", \"Result\": 1997}, {\"Date\": \"2019-01-19T00:00:00\", \"Result\": 2000}, {\"Date\": \"2019-12-14T00:00:00\", \"Result\": 2009}, {\"Date\": \"2019-06-22T00:00:00\", \"Result\": 2066}, {\"Date\": \"2019-03-02T00:00:00\", \"Result\": 2153}, {\"Date\": \"2018-11-17T00:00:00\", \"Result\": 1786}, {\"Date\": \"2018-09-15T00:00:00\", \"Result\": 1859}, {\"Date\": \"2018-11-10T00:00:00\", \"Result\": 1876}, {\"Date\": \"2018-10-27T00:00:00\", \"Result\": 1893}, {\"Date\": \"2018-08-18T00:00:00\", \"Result\": 2035}, {\"Date\": \"2018-04-28T00:00:00\", \"Result\": 2062}, {\"Date\": \"2018-10-20T00:00:00\", \"Result\": 2071}, {\"Date\": \"2018-08-04T00:00:00\", \"Result\": 2113}, {\"Date\": \"2018-08-11T00:00:00\", \"Result\": 2144}, {\"Date\": \"2018-06-23T00:00:00\", \"Result\": 2159}, {\"Date\": \"2018-06-09T00:00:00\", \"Result\": 2171}, {\"Date\": \"2018-03-17T00:00:00\", \"Result\": 2200}, {\"Date\": \"2018-09-29T00:00:00\", \"Result\": 2249}, {\"Date\": \"2018-06-30T00:00:00\", \"Result\": 2252}, {\"Date\": \"2018-03-24T00:00:00\", \"Result\": 2277}, {\"Date\": \"2018-07-21T00:00:00\", \"Result\": 2300}, {\"Date\": \"2018-02-24T00:00:00\", \"Result\": 2411}, {\"Date\": \"2018-01-01T00:00:00\", \"Result\": 2507}, {\"Date\": \"2018-05-12T00:00:00\", \"Result\": 2584}, {\"Date\": \"2018-01-06T00:00:00\", \"Result\": 2622}, {\"Date\": \"2018-04-14T00:00:00\", \"Result\": 2786}, {\"Date\": \"2017-12-30T00:00:00\", \"Result\": 2106}, {\"Date\": \"2017-12-02T00:00:00\", \"Result\": 2199}]}}, {\"mode\": \"vega-lite\"});\n",
       "</script>"
      ],
      "text/plain": [
       "alt.Chart(...)"
      ]
     },
     "execution_count": 52,
     "metadata": {},
     "output_type": "execute_result"
    }
   ],
   "source": [
    "all_performances_df.plot.line(x=\"Date\", y=\"Result\").properties(width=1200, height=500, title=\"Eglinton Parkrun\").configure_scale(zero=False)"
   ]
  }
 ],
 "metadata": {
  "kernelspec": {
   "display_name": ".venv",
   "language": "python",
   "name": "python3"
  },
  "language_info": {
   "codemirror_mode": {
    "name": "ipython",
    "version": 3
   },
   "file_extension": ".py",
   "mimetype": "text/x-python",
   "name": "python",
   "nbconvert_exporter": "python",
   "pygments_lexer": "ipython3",
   "version": "3.13.1"
  }
 },
 "nbformat": 4,
 "nbformat_minor": 5
}
